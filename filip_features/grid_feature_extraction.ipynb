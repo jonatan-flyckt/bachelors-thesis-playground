{
 "cells": [
  {
   "cell_type": "code",
   "execution_count": 2,
   "metadata": {},
   "outputs": [],
   "source": []
  },
  {
   "cell_type": "code",
   "execution_count": 225,
   "metadata": {},
   "outputs": [],
   "source": [
    "import numpy as np\n",
    "import math\n",
    "\n",
    "def grid_creator(arr, grid_size=(5,5)):\n",
    "    print(arr.shape)\n",
    "    width, height = grid_size\n",
    "    holder_size = (len(arr)*len(arr[0])//width)\n",
    "    holder = np.zeros([holder_size, width*height])\n",
    "    index = 0\n",
    "    for i in range(0, len(arr), width):\n",
    "        ix = i+width\n",
    "        for j in range(0, len(arr[0]), height):\n",
    "            jy = j+height\n",
    "            if arr[i:ix,j:jy].shape != grid_size: #Skip incomplete zones\n",
    "                continue\n",
    "            holder[index] = arr[i:ix,j:jy].reshape(width*height)\n",
    "            print(holder[index])\n",
    "            index +=1\n",
    "    return holder[:index]\n",
    "\n",
    "def feature_grid_creator(arr, grid_size=(5,5)):\n",
    "    size = grid_size[0]*grid_size[1]\n",
    "    holder = np.empty([len(arr), size,size ])\n",
    "    for i, row in enumerate(arr):\n",
    "        a = grid_creator(row,grid_size)\n",
    "        holder[i] = a\n",
    "    return holder"
   ]
  },
  {
   "cell_type": "code",
   "execution_count": 223,
   "metadata": {},
   "outputs": [
    {
     "data": {
      "text/plain": [
       "array([[10., 11., 12., 13., 15., 16., 17., 18., 20., 21., 22., 23., 25.,\n",
       "        26., 27., 28.]])"
      ]
     },
     "execution_count": 223,
     "metadata": {},
     "output_type": "execute_result"
    }
   ],
   "source": [
    "grid_creator(np.asarray(\n",
    "    [[10,11,12,13,14],\n",
    "     [15,16,17,18,19],\n",
    "     [20,21,22,23,24],\n",
    "     [25,26,27,28,29]]), (4,4))\n"
   ]
  },
  {
   "cell_type": "code",
   "execution_count": 221,
   "metadata": {},
   "outputs": [
    {
     "data": {
      "text/plain": [
       "(2, 4, 5)"
      ]
     },
     "execution_count": 221,
     "metadata": {},
     "output_type": "execute_result"
    }
   ],
   "source": [
    "input = np.asarray([\n",
    "        np.asarray(\n",
    "            [\n",
    "                 [0,1,2,3,4],\n",
    "                 [5,6,7,8,9],\n",
    "                 [0,1,2,3,4],\n",
    "                 [5,6,7,8,9]\n",
    "            ]\n",
    "        ),\n",
    "        np.asarray(\n",
    "            [\n",
    "                 [10,20,2,3,4],\n",
    "                 [50,60,7,8,9],\n",
    "                 [0,1,2,3,4],\n",
    "                 [5,6,7,8,9]\n",
    "            ]\n",
    "        )\n",
    "    ])\n",
    "arr = feature_grid_creator(input,(2,2))\n",
    "input.shape                     "
   ]
  },
  {
   "cell_type": "code",
   "execution_count": null,
   "metadata": {},
   "outputs": [],
   "source": []
  },
  {
   "cell_type": "code",
   "execution_count": null,
   "metadata": {},
   "outputs": [],
   "source": []
  }
 ],
 "metadata": {
  "kernelspec": {
   "display_name": "Python 3",
   "language": "python",
   "name": "python3"
  },
  "language_info": {
   "codemirror_mode": {
    "name": "ipython",
    "version": 3
   },
   "file_extension": ".py",
   "mimetype": "text/x-python",
   "name": "python",
   "nbconvert_exporter": "python",
   "pygments_lexer": "ipython3",
   "version": "3.7.1"
  }
 },
 "nbformat": 4,
 "nbformat_minor": 2
}
