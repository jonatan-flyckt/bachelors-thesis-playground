{
 "cells": [
  {
   "cell_type": "code",
   "execution_count": 12,
   "metadata": {},
   "outputs": [],
   "source": [
    "import matplotlib.pyplot as plt\n",
    "plt.rcParams['figure.figsize'] = (20.0, 10.0)\n",
    "import os\n",
    "from PIL import Image\n",
    "import numpy as np"
   ]
  },
  {
   "cell_type": "markdown",
   "metadata": {},
   "source": [
    "3 zones is used as tiff and being converted to .npy files to enable easy usage of files."
   ]
  },
  {
   "cell_type": "code",
   "execution_count": 7,
   "metadata": {},
   "outputs": [
    {
     "data": {
      "text/plain": [
       "['Ditches_zone1_raw',\n",
       " 'HPMF_zone1_raw',\n",
       " 'Impoundment_zone1_raw',\n",
       " 'Skyview_zone1_raw',\n",
       " 'Slope_zone1_raw',\n",
       " 'Ditches_zone2_raw',\n",
       " 'HPMF_zone2_raw',\n",
       " 'Impoundment_zone2_raw',\n",
       " 'Skyview_zone2_raw',\n",
       " 'Slope_zone2_raw',\n",
       " 'Ditches_zone3_raw',\n",
       " 'HPMF_zone3_raw',\n",
       " 'Impoundment_zone3_raw',\n",
       " 'Skyview_zone3_raw',\n",
       " 'Slope_zone3_raw']"
      ]
     },
     "execution_count": 7,
     "metadata": {},
     "output_type": "execute_result"
    }
   ],
   "source": [
    "fileNames = []\n",
    "for folder in os.listdir(\"../cropped_data/3_zones\"):\n",
    "    for imageName in os.listdir(f\"../cropped_data/3_zones/{folder}\"):\n",
    "        fileName = f\"{imageName[23:-4]}_raw.npy\"\n",
    "        fileNames.append(fileName)\n",
    "        np.save(fileName, np.asarray(Image.open(f\"../cropped_data/3_zones/{folder}/{imageName}\")))\n",
    "\n",
    "raw_files_with_no_extension = []\n",
    "for name in fileNames:\n",
    "    raw_files_with_no_extension.append(name[:-4])\n",
    "raw_files_with_no_extension"
   ]
  },
  {
   "cell_type": "code",
   "execution_count": null,
   "metadata": {},
   "outputs": [],
   "source": []
  }
 ],
 "metadata": {
  "kernelspec": {
   "display_name": "Python 3",
   "language": "python",
   "name": "python3"
  },
  "language_info": {
   "codemirror_mode": {
    "name": "ipython",
    "version": 3
   },
   "file_extension": ".py",
   "mimetype": "text/x-python",
   "name": "python",
   "nbconvert_exporter": "python",
   "pygments_lexer": "ipython3",
   "version": "3.7.1"
  }
 },
 "nbformat": 4,
 "nbformat_minor": 2
}
