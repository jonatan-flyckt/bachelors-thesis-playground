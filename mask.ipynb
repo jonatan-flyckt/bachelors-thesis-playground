{
 "cells": [
  {
   "cell_type": "code",
   "execution_count": 3,
   "metadata": {},
   "outputs": [],
   "source": [
    "import numpy as np\n",
    "from scipy.ndimage.filters import generic_filter as gf\n"
   ]
  },
  {
   "cell_type": "code",
   "execution_count": 57,
   "metadata": {},
   "outputs": [],
   "source": [
    "def create_circular_mask(radius):\n",
    "    kernel = np.zeros((2*radius+1, 2*radius+1))\n",
    "    y,x = np.ogrid[-radius:radius+1, -radius:radius+1]\n",
    "    mask = x**2 + y**2 <= radius**2\n",
    "    mask[radius][radius] = 0\n",
    "    kernel[mask] = 1\n",
    "    return kernel"
   ]
  },
  {
   "cell_type": "code",
   "execution_count": 60,
   "metadata": {},
   "outputs": [
    {
     "data": {
      "text/plain": [
       "array([[ 1.03571429,  1.10714286,  1.14285714,  4.64285714],\n",
       "       [ 1.        ,  4.60714286,  8.21428571, 11.75      ],\n",
       "       [ 1.        ,  8.10714286, 15.21428571, 15.25      ],\n",
       "       [ 4.53571429, 11.60714286, 15.14285714, 11.64285714]])"
      ]
     },
     "execution_count": 60,
     "metadata": {},
     "output_type": "execute_result"
    }
   ],
   "source": [
    "data = np.array([[1, 1, 1,  2],\n",
    "          [1, 1, 1,  1],\n",
    "          [1, 1, 1,  1],\n",
    "          [1, 1, 1,  100]], dtype=np.float)\n",
    "mask = create_circular_mask(3)\n",
    "\n",
    "gf(data,np.nanmean,footprint=mask)"
   ]
  },
  {
   "cell_type": "code",
   "execution_count": null,
   "metadata": {},
   "outputs": [],
   "source": []
  }
 ],
 "metadata": {
  "kernelspec": {
   "display_name": "'Python Interactive'",
   "language": "python",
   "name": "7d49e67a-d52d-4a57-8547-cfc47b6f2054"
  },
  "language_info": {
   "codemirror_mode": {
    "name": "ipython",
    "version": 3
   },
   "file_extension": ".py",
   "mimetype": "text/x-python",
   "name": "python",
   "nbconvert_exporter": "python",
   "pygments_lexer": "ipython3",
   "version": "3.6.8"
  }
 },
 "nbformat": 4,
 "nbformat_minor": 2
}
