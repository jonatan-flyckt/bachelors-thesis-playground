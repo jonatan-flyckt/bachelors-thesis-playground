{
 "cells": [
  {
   "cell_type": "code",
   "execution_count": 1,
   "metadata": {},
   "outputs": [],
   "source": [
    "import numpy as np\n",
    "from scipy.ndimage.filters import generic_filter as gf\n",
    "from PIL import Image\n",
    "import matplotlib.pyplot as plt\n",
    "import scipy\n",
    "from scipy import ndimage\n",
    "import scipy.stats.mstats as ms"
   ]
  },
  {
   "cell_type": "markdown",
   "metadata": {},
   "source": [
    "To extract neighbors a mask is created that will be moved over the image to create new features."
   ]
  },
  {
   "cell_type": "code",
   "execution_count": 2,
   "metadata": {},
   "outputs": [],
   "source": [
    "def create_circular_mask(radius):\n",
    "    kernel = np.zeros((2*radius+1, 2*radius+1))\n",
    "    y,x = np.ogrid[-radius:radius+1, -radius:radius+1]\n",
    "    mask = x**2 + y**2 <= radius**2\n",
    "    mask[radius][radius] = 0\n",
    "    kernel[mask] = 1\n",
    "    return kernel"
   ]
  },
  {
   "cell_type": "code",
   "execution_count": 3,
   "metadata": {},
   "outputs": [
    {
     "data": {
      "text/plain": [
       "<matplotlib.image.AxesImage at 0x22146706710>"
      ]
     },
     "execution_count": 3,
     "metadata": {},
     "output_type": "execute_result"
    },
    {
     "data": {
      "image/png": "[encoded data removed]",
      "text/plain": [
       "<Figure size 432x288 with 1 Axes>"
      ]
     },
     "metadata": {
      "needs_background": "light"
     },
     "output_type": "display_data"
    }
   ],
   "source": [
    "#Example of mask\n",
    "plt.imshow(create_circular_mask(10))"
   ]
  },
  {
   "cell_type": "code",
   "execution_count": 4,
   "metadata": {
    "scrolled": false
   },
   "outputs": [
    {
     "name": "stdout",
     "output_type": "stream",
     "text": [
      "0.4569699\n",
      "(array([258], dtype=int64), array([985], dtype=int64))\n",
      "0.46985248\n",
      "(array([260], dtype=int64), array([984], dtype=int64))\n",
      "0.4764132\n",
      "(array([713], dtype=int64), array([135], dtype=int64))\n"
     ]
    }
   ],
   "source": [
    "im = Image.open(\"croppedImage_skyview1000x1000.tif\")\n",
    "arr = np.asarray(im)\n",
    "mask = create_circular_mask(2)\n",
    "\n",
    "for row in arr:\n",
    "    for pixel in row:\n",
    "        if pixel < 0.5:\n",
    "            print(pixel)\n",
    "            print(np.where(arr == pixel))\n",
    "\n",
    "#plt.figure(num=None, figsize=(28,16), facecolor='w', edgecolor='k')\n",
    "#ax = [plt.subplot(1,1,i+1) for i in range(1)]\n",
    "#for a in ax:\n",
    " #   a.set_xticklabels([])\n",
    "  #  a.set_yticklabels([])\n",
    "   # a.tick_params(bottom=False, left=False)\n",
    "#plt.subplots_adjust(wspace=0,hspace=0)\n",
    "\n",
    "#ax[0].title.set_text(\"Original\")\n",
    "#ax[0].imshow(arr)\n",
    "\n",
    "#ax[1].title.set_text(\"Median\")\n",
    "#ax[1].imshow(gf(arr,np.nanmedian,footprint=mask))\n",
    "\n",
    "#ax[2].title.set_text(\"Mean\")\n",
    "#ax[2].imshow(gf(arr,np.nanmean,footprint=mask))\n",
    "\n",
    "#ax[3].title.set_text(\"Standard deviation\")\n",
    "#ax[3].imshow(gf(arr,np.nanstd,footprint=mask))\n",
    "\n",
    "#ax[4].title.set_text(\"Maximum\")\n",
    "#ax[4].imshow(gf(arr,ms.tmax,footprint=mask))\n",
    "\n",
    "#ax[5].title.set_text(\"Skew\")\n",
    "#ax[5].imshow(gf(arr,ms.skew,footprint=mask))\n",
    "\n",
    "#ax[6].title.set_text(\"variance\")\n",
    "#ax[6].imshow(gf(arr,ms.trimmed_var,footprint=mask))\n",
    "\n",
    "#ax[7].title.set_text(\"Standard error of the mean\")\n",
    "#ax[7].imshow(gf(arr,ms.sem,footprint=mask))"
   ]
  },
  {
   "cell_type": "code",
   "execution_count": null,
   "metadata": {},
   "outputs": [],
   "source": []
  },
  {
   "cell_type": "code",
   "execution_count": null,
   "metadata": {},
   "outputs": [],
   "source": [
    "def create_conic_mask(radius, direction):\n",
    "    kernel = np.zeros((2*radius+1, 2*radius+1))\n",
    "    y,x = np.ogrid[-radius:radius+1, -radius:radius+1]\n",
    "    if direction == 0:\n",
    "        mask = (x > y) & (x < abs(y)) & (x**2 + y**2 <= radius**2)\n",
    "    elif direction == 1:\n",
    "        mask = (x > abs(y)) & (x**2 + y**2 <= radius**2)\n",
    "    elif direction == 2:\n",
    "        mask = (abs(x) < y) & (x**2 + y**2 <= radius**2)\n",
    "    elif direction == 3:\n",
    "        mask = (abs(x) > abs(y)) & (x < abs(y)) & (x**2 + y**2 <= radius**2)    \n",
    "    kernel[mask] = 1\n",
    "    return kernel\n",
    "\n",
    "def conicMean(arr, masks, threshold):\n",
    "    newArr = arr.copy()\n",
    "    \n",
    "    for i in range(len(arr)):\n",
    "        for j in range(len(arr[i])):\n",
    "            meanTop = meanFromMask(arr, (i, j), masks[0])\n",
    "            meanRight = meanFromMask(arr, (i, j), masks[1])\n",
    "            meanBottom = meanFromMask(arr, (i, j), masks[2])\n",
    "            meanLeft = meanFromMask(arr, (i, j), masks[3])\n",
    "            if (meanTop < threshold) and (meanBottom < threshold):\n",
    "                if meanTop < meanBottom:\n",
    "                    newArr[i][j] = meanTop - 0.3\n",
    "                else:\n",
    "                    newArr[i][j] = meanBottom - 0.3\n",
    "            if (meanRight < threshold) and (meanLeft < threshold):\n",
    "                if meanRight < meanLeft:\n",
    "                    newArr[i][j] = meanRight - 0.3\n",
    "                else:\n",
    "                    newArr[i][j] = meanLeft - 0.3\n",
    "            \n",
    "    return newArr\n",
    "\n",
    "def meanFromMask(arr, index, mask):\n",
    "    elementAmount = 1\n",
    "    row = index[0]\n",
    "    col = index[1]\n",
    "    \n",
    "    halfMask = len(mask) // 2\n",
    "    \n",
    "    arrLen = len(arr)\n",
    "        \n",
    "    elementSum = 0\n",
    "    for i in range(-halfMask , halfMask):\n",
    "        for j in range(-halfMask , halfMask):\n",
    "            if arrLen - 2 > col + j or col + j >= 0 or arrLen - 2 > row + i or row + i >= 0:\n",
    "                if mask[i + halfMask][j + halfMask] == 1:\n",
    "                    #print(row + i)\n",
    "                    #print(col + j)\n",
    "                    if row + i < 1000:\n",
    "                        if col + j < 1000:\n",
    "                            elementSum += arr[row + i][col + j]\n",
    "                            elementAmount += 1\n",
    "    return elementSum / elementAmount\n",
    "\n",
    "#plt.figure(num=None, figsize=(28,16), facecolor='w', edgecolor='k')\n",
    "#ax = [plt.subplot(2,2,i+1) for i in range(4)]\n",
    "#for a in ax:\n",
    "#    a.set_xticklabels([])\n",
    "#    a.set_yticklabels([])\n",
    "#    a.tick_params(bottom=False, left=False)\n",
    "#plt.subplots_adjust(wspace=0,hspace=0)\n",
    "\n",
    "\n",
    "#ax[0].imshow(create_conic_mask(20, 0))\n",
    "#ax[1].imshow(create_conic_mask(20, 1))\n",
    "#ax[2].imshow(create_conic_mask(20, 2))\n",
    "#ax[3].imshow(create_conic_mask(20, 3))\n",
    "\n",
    "masks = []\n",
    "for i in range(0, 4):\n",
    "    #ax[i].imshow(create_conic_mask(10, i))\n",
    "    masks.append(create_conic_mask(10, i))\n",
    "\n",
    "#print(len(masks))\n",
    "#for mask in masks:\n",
    "#    print(mask)\n",
    "\n",
    "newArr = conicMean(arr, masks, 98)\n",
    "    \n",
    "plt.figure(num=None, figsize=(28,16), facecolor='w', edgecolor='k')\n",
    "ax = [plt.subplot(1,2,i+1) for i in range(2)]\n",
    "for a in ax:\n",
    "    a.set_xticklabels([])\n",
    "    a.set_yticklabels([])\n",
    "    a.tick_params(bottom=False, left=False)\n",
    "plt.subplots_adjust(wspace=0,hspace=0)\n",
    "\n",
    "ax[0].title.set_text(\"Original\")\n",
    "ax[0].imshow(arr)\n",
    "\n",
    "ax[1].title.set_text(\"Test\")\n",
    "ax[1].imshow(newArr)"
   ]
  },
  {
   "cell_type": "code",
   "execution_count": null,
   "metadata": {},
   "outputs": [],
   "source": []
  }
 ],
 "metadata": {
  "kernelspec": {
   "display_name": "Python 3",
   "language": "python",
   "name": "python3"
  },
  "language_info": {
   "codemirror_mode": {
    "name": "ipython",
    "version": 3
   },
   "file_extension": ".py",
   "mimetype": "text/x-python",
   "name": "python",
   "nbconvert_exporter": "python",
   "pygments_lexer": "ipython3",
   "version": "3.7.0"
  }
 },
 "nbformat": 4,
 "nbformat_minor": 2
}
