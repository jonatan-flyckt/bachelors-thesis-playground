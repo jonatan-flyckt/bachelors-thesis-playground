{
 "cells": [
  {
   "cell_type": "code",
   "execution_count": 2,
   "metadata": {},
   "outputs": [],
   "source": [
    "import matplotlib.pyplot as plt\n",
    "import matplotlib as mpl\n",
    "import numpy as np\n",
    "from PIL import Image\n",
    "Image.MAX_IMAGE_PIXELS = None"
   ]
  },
  {
   "cell_type": "markdown",
   "metadata": {},
   "source": [
    "This notebook should be used to generate cropped features that can be used in the testing of features / algoritmic functions."
   ]
  },
  {
   "cell_type": "code",
   "execution_count": 3,
   "metadata": {},
   "outputs": [],
   "source": [
    "SkyViewOrginal = Image.open('raw_data/SkyViewFactor05m.tif')\n",
    "ImpoundmentIndexOriginal = Image.open('raw_data/ImpoundmentWBT_dam_height.tif')"
   ]
  },
  {
   "cell_type": "markdown",
   "metadata": {},
   "source": [
    "The original datasets will be loaded from raw_data into memmory where it can be manipulated / extracted."
   ]
  },
  {
   "cell_type": "code",
   "execution_count": 8,
   "metadata": {},
   "outputs": [],
   "source": [
    "def postfix(box):\n",
    "    return f\"{box[2]-box[0]}x{box[3]-box[1]}\"\n",
    "def name(title,box):\n",
    "    prefix = \"cropped\"\n",
    "    postfix = postfix(box)\n",
    "    return f\"{prefix}_data/{prefix}_{title}_{postfix}\""
   ]
  },
  {
   "cell_type": "markdown",
   "metadata": {},
   "source": [
    "Helper methods to save files to correct location"
   ]
  },
  {
   "cell_type": "code",
   "execution_count": null,
   "metadata": {},
   "outputs": [],
   "source": [
    "name = \"skyview\"\n",
    "box = (10000, 10000, 12500, 12500)\n",
    "croppedImage = im.crop(box)\n",
    "croppedImage.save(name(title,box))"
   ]
  },
  {
   "cell_type": "code",
   "execution_count": null,
   "metadata": {},
   "outputs": [],
   "source": [
    "name = \"inpoundmentIndex\"\n",
    "box = (10000, 10000, 12500, 12500)\n",
    "croppedImage = im.crop(box)\n",
    "croppedImage.save(name(title,box))"
   ]
  }
 ],
 "metadata": {
  "kernelspec": {
   "display_name": "Python 3",
   "language": "python",
   "name": "python3"
  },
  "language_info": {
   "codemirror_mode": {
    "name": "ipython",
    "version": 3
   },
   "file_extension": ".py",
   "mimetype": "text/x-python",
   "name": "python",
   "nbconvert_exporter": "python",
   "pygments_lexer": "ipython3",
   "version": "3.7.0"
  }
 },
 "nbformat": 4,
 "nbformat_minor": 2
}
