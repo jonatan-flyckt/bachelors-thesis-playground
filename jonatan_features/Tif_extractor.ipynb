{
 "cells": [
  {
   "cell_type": "code",
   "execution_count": 74,
   "metadata": {},
   "outputs": [],
   "source": [
    "import matplotlib.pyplot as plt\n",
    "import matplotlib as mpl\n",
    "import numpy as np\n",
    "from PIL import Image\n",
    "Image.MAX_IMAGE_PIXELS = None\n",
    "\n",
    "im = Image.open(\"../raw_data/Composite_3rutor/Slope_3rutor.tif\")\n",
    "#im = Image.open(\"../raw_data/SkyViewFactor05m.tif\")\n",
    "box = (0, 6000, 2625, 9000)\n",
    "#box = (4700, 8302, 7235, 11302)\n",
    "croppedImage = im.crop(box)\n",
    "#9950_8302_12575_11302 zone3\n",
    "#7325_2302_9950_5302 zone1 \n",
    "#4700_8302_7235_11302 zone2\n",
    "\n",
    "croppedImage.save(\"../cropped_data/croppedImage_2625x3000_Slope_zone2.tif\")\n"
   ]
  },
  {
   "cell_type": "code",
   "execution_count": null,
   "metadata": {},
   "outputs": [],
   "source": []
  }
 ],
 "metadata": {
  "kernelspec": {
   "display_name": "Python 3",
   "language": "python",
   "name": "python3"
  },
  "language_info": {
   "codemirror_mode": {
    "name": "ipython",
    "version": 3
   },
   "file_extension": ".py",
   "mimetype": "text/x-python",
   "name": "python",
   "nbconvert_exporter": "python",
   "pygments_lexer": "ipython3",
   "version": "3.7.0"
  }
 },
 "nbformat": 4,
 "nbformat_minor": 2
}
